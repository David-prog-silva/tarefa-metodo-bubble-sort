{
  "nbformat": 4,
  "nbformat_minor": 0,
  "metadata": {
    "colab": {
      "name": "tarefaMetodoBolha",
      "private_outputs": true,
      "provenance": [],
      "collapsed_sections": [],
      "authorship_tag": "ABX9TyOF0pGbPu/WChnNMBcZ1OWg",
      "include_colab_link": true
    },
    "kernelspec": {
      "name": "python3",
      "display_name": "Python 3"
    },
    "language_info": {
      "name": "python"
    }
  },
  "cells": [
    {
      "cell_type": "markdown",
      "metadata": {
        "id": "view-in-github",
        "colab_type": "text"
      },
      "source": [
        "<a href=\"https://colab.research.google.com/github/DavidSilvaSantosJr/tarefa-metodo-bubble-sort/blob/main/tarefaMetodoBolha.ipynb\" target=\"_parent\"><img src=\"https://colab.research.google.com/assets/colab-badge.svg\" alt=\"Open In Colab\"/></a>"
      ]
    },
    {
      "cell_type": "markdown",
      "source": [
        "Implementar o método Bolha e escrever um código que leia o vetor abaixo e gere automaticamente os gráficos (tempo de processamento).\n",
        "Tamanho = [500, 1000, 2000, 5000, 10000, 50000, 100000]\n",
        "\n",
        "Atenção:\n",
        "* Gerar números aleatórios para 'popular' o vetor.\n",
        "* Contador de tempo (timestamp).\n",
        "* Plotar gráfico."
      ],
      "metadata": {
        "id": "Ox7IFNraXp_7"
      }
    },
    {
      "cell_type": "code",
      "source": [
        "from random import randint\n",
        "import numpy\n",
        "from datetime import datetime\n",
        "####funções ###\n",
        "#cronometrar\n",
        "def cronometrar(i, f):\n",
        "    tempoExecutar = f - i\n",
        "    return tempoExecutar\n",
        "#executar geração de vetores\n",
        "\n",
        "qtdValorVetores = [5, 6, 7]\n",
        "\n",
        "def adicionarValores(valores):\n",
        "    for i in range(len(qtdValorVetores)):\n",
        "            for r in range(qtdValorVetores[i]):\n",
        "                valores[i].append(randint(0, 20))\n",
        "    return adicionarValores\n",
        "#ordenar - bubble sort\n",
        "def ordenar(valoress):\n",
        "    \n",
        "    for v in valoress:\n",
        "        i = datetime.now()\n",
        "        global somarInicioContagem\n",
        "        somarInicioContagem = datetime.timestamp(i)\n",
        "        for passnum in range(len(valoress)-1,0,-1):\n",
        "            for i in range(passnum):\n",
        "                if valoress[i]>valoress[i+1]:\n",
        "                    temp = valoress[i]\n",
        "                    valoress[i] = valoress[i+1]\n",
        "                    valoress[i+1] = temp\n",
        "        f = datetime.now()\n",
        "        global somarFimContagem\n",
        "        somarFimContagem = datetime.timestamp(f)\n",
        "        \n",
        "    return ordenar\n",
        "####exibição dos vetores\n",
        "vetorFinal = [[ ], [ ], [ ]]\n",
        "adicionarValores(vetorFinal)\n",
        "for vetores in vetorFinal:\n",
        "    ordenar(vetores)\n",
        "\n",
        "    valorcont = cronometrar(somarInicioContagem, somarFimContagem)\n",
        "\n",
        "    print(f'ordernar {len(vetores)} valores no vetor -> {valorcont}')\n",
        "#adicionar informações no gráfico"
      ],
      "metadata": {
        "id": "CETcMbgauix8"
      },
      "execution_count": null,
      "outputs": []
    },
    {
      "cell_type": "code",
      "source": [
        ""
      ],
      "metadata": {
        "id": "mQYHjlryhCTw"
      },
      "execution_count": null,
      "outputs": []
    }
  ]
}